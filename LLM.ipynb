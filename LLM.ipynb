{
 "cells": [
  {
   "cell_type": "code",
   "execution_count": 4,
   "id": "51084eb3-2353-4a7d-9d45-9d6d09582b81",
   "metadata": {},
   "outputs": [
    {
     "name": "stdout",
     "output_type": "stream",
     "text": [
      "Reducing weight can be challenging, but there are several steps you can take to achieve your weight loss goals. Here are some effective tips:\n",
      "\n",
      "1. **Create a calorie deficit**: Eat fewer calories than your body burns, and your body will use stored fat for energy. Aim for a daily calorie deficit of 500-1000 calories to promote weight loss while still providing your body with enough energy.\n",
      "2. **Eat protein-rich foods**: Protein takes more energy to digest, which can help increase your metabolism and reduce hunger. Aim for 0.8-1 gram of protein per pound of body weight from sources like lean meats, fish, eggs, tofu, and legumes.\n",
      "3. **Incorporate healthy fats**: Foods high in healthy fats, such as avocados, nuts, and olive oil, can help you feel full and satisfied while providing sustained energy.\n",
      "4. **Focus on whole foods**: Whole, unprocessed foods like fruits, vegetables, whole grains, lean proteins, and healthy fats are rich in nutrients and fiber, making them more filling and satisfying than processed foods.\n",
      "5. **Hydrate adequately**: Drinking plenty of water can help suppress appetite and improve digestive health. Aim for at least eight glasses of water per day.\n",
      "6. **Get enough sleep**: Lack of sleep can disrupt hormones that regulate hunger and fullness, leading to overeating. Aim for 7-9 hours of sleep per night.\n",
      "7. **Stay active**: Regular exercise can help you burn calories and build muscle. Aim for at least 150 minutes of moderate-intensity exercise or 75 minutes of vigorous-intensity exercise per week.\n",
      "8. **Strength train**: Building muscle through strength training can help boost your metabolism and burn more calories at rest. Focus on compound exercises like squats, deadlifts, and bench press.\n",
      "9. **Reduce stress**: Chronic stress can lead to overeating and weight gain. Try stress-reducing techniques like meditation, yoga, or deep breathing exercises.\n",
      "10. **Monitor your food intake**: Keeping track of your food intake can help you stay accountable and make healthier choices. Use a food diary or an app to track your eating habits.\n",
      "11. **Aim for gradual weight loss**: Aim to lose 1-2 pounds per week for a sustainable weight loss. Faster weight loss is not always healthier and is often unsustainable.\n",
      "12. **Seek support**: Having a support system in place can help you stay on track with your weight loss goals. Consider joining a weight loss support group or hiring a personal trainer.\n",
      "\n",
      "Some additional tips to keep in mind:\n",
      "\n",
      "* Eat more fiber-rich foods to help with satiety and digestion\n",
      "* Incorporate high-intensity interval training (HIIT) into your exercise routine\n",
      "* Get enough vitamin D and other essential nutrients through your diet or supplements\n",
      "* Avoid fad diets and focus on sustainable lifestyle changes\n",
      "* Consult with a healthcare professional or registered dietitian for personalized guidance and support.\n",
      "\n",
      "Remember, losing weight too quickly is not healthy and is unlikely to be sustainable. Focus on making gradual lifestyle changes that you can maintain in the long term.\n"
     ]
    }
   ],
   "source": [
    "# import libraries\n",
    "import os\n",
    "from dotenv import load_dotenv\n",
    "from groq import Groq\n",
    "\n",
    "# load environment variables\n",
    "load_dotenv()\n",
    "\n",
    "# create client calling Groq class\n",
    "client = Groq(api_key=os.getenv('GROQ_API_KEY'))\n",
    "\n",
    "question =\"how to reduce weight\"\n",
    "\n",
    "# create a query\n",
    "response = client.chat.completions.create(\n",
    "    messages=[\n",
    "        {\n",
    "            \"role\": \"user\",\n",
    "            \"content\":question,\n",
    "        }\n",
    "    ],\n",
    "    model=\"llama3-8b-8192\",\n",
    ")\n",
    "\n",
    "# print the response\n",
    "print(response.choices[0].message.content)"
   ]
  },
  {
   "cell_type": "code",
   "execution_count": null,
   "id": "dc49b59f-4cc5-43d3-99b8-3461dd7b0a0a",
   "metadata": {},
   "outputs": [],
   "source": [
    "# In this section we use a simple inbuilt search engine\n",
    "# Download the necessary files using wget\n",
    "import wget\n",
    "\n",
    "url = 'https://raw.githubusercontent.com/DataTalksClub/llm-zoomcamp/main/01-intro/minsearch.py'\n",
    "wget.download(url)\n",
    "url = 'https://raw.githubusercontent.com/DataTalksClub/llm-zoomcamp/main/01-intro/documents.json'\n",
    "wget.download(url)"
   ]
  },
  {
   "cell_type": "code",
   "execution_count": 3,
   "id": "7b8d302f-8843-4a4d-be6b-5b4982f161ab",
   "metadata": {},
   "outputs": [
    {
     "ename": "UnboundLocalError",
     "evalue": "local variable 'prompt' referenced before assignment",
     "output_type": "error",
     "traceback": [
      "\u001b[1;31m---------------------------------------------------------------------------\u001b[0m",
      "\u001b[1;31mUnboundLocalError\u001b[0m                         Traceback (most recent call last)",
      "Cell \u001b[1;32mIn[3], line 50\u001b[0m\n\u001b[0;32m     47\u001b[0m         prompt \u001b[38;5;241m=\u001b[39m prompt_template\u001b[38;5;241m.\u001b[39mformat(question\u001b[38;5;241m=\u001b[39mquery, context\u001b[38;5;241m=\u001b[39mcontext)\u001b[38;5;241m.\u001b[39mstrip()\n\u001b[0;32m     48\u001b[0m     \u001b[38;5;28;01mreturn\u001b[39;00m prompt\n\u001b[1;32m---> 50\u001b[0m prompt \u001b[38;5;241m=\u001b[39m \u001b[43mbuild_prompt\u001b[49m\u001b[43m(\u001b[49m\u001b[43mquery\u001b[49m\u001b[43m,\u001b[49m\u001b[43mresults\u001b[49m\u001b[43m)\u001b[49m\n\u001b[0;32m     52\u001b[0m \u001b[38;5;66;03m#client = OpenAI(api_key=os.getenv('OPEN_API_KEY'))\u001b[39;00m\n\u001b[0;32m     53\u001b[0m client \u001b[38;5;241m=\u001b[39m Groq(api_key\u001b[38;5;241m=\u001b[39mos\u001b[38;5;241m.\u001b[39mgetenv(\u001b[38;5;124m'\u001b[39m\u001b[38;5;124mGROQ_API_KEY\u001b[39m\u001b[38;5;124m'\u001b[39m))\n",
      "Cell \u001b[1;32mIn[3], line 48\u001b[0m, in \u001b[0;36mbuild_prompt\u001b[1;34m(query, search_results)\u001b[0m\n\u001b[0;32m     46\u001b[0m     context \u001b[38;5;241m=\u001b[39m context \u001b[38;5;241m+\u001b[39m \u001b[38;5;124mf\u001b[39m\u001b[38;5;124m\"\u001b[39m\u001b[38;5;124msection: \u001b[39m\u001b[38;5;132;01m{\u001b[39;00mdoc[\u001b[38;5;124m'\u001b[39m\u001b[38;5;124msection\u001b[39m\u001b[38;5;124m'\u001b[39m]\u001b[38;5;132;01m}\u001b[39;00m\u001b[38;5;130;01m\\n\u001b[39;00m\u001b[38;5;124mquestion: \u001b[39m\u001b[38;5;132;01m{\u001b[39;00mdoc[\u001b[38;5;124m'\u001b[39m\u001b[38;5;124mquestion\u001b[39m\u001b[38;5;124m'\u001b[39m]\u001b[38;5;132;01m}\u001b[39;00m\u001b[38;5;130;01m\\n\u001b[39;00m\u001b[38;5;124manswer: \u001b[39m\u001b[38;5;132;01m{\u001b[39;00mdoc[\u001b[38;5;124m'\u001b[39m\u001b[38;5;124mtext\u001b[39m\u001b[38;5;124m'\u001b[39m]\u001b[38;5;132;01m}\u001b[39;00m\u001b[38;5;130;01m\\n\u001b[39;00m\u001b[38;5;130;01m\\n\u001b[39;00m\u001b[38;5;124m\"\u001b[39m\n\u001b[0;32m     47\u001b[0m     prompt \u001b[38;5;241m=\u001b[39m prompt_template\u001b[38;5;241m.\u001b[39mformat(question\u001b[38;5;241m=\u001b[39mquery, context\u001b[38;5;241m=\u001b[39mcontext)\u001b[38;5;241m.\u001b[39mstrip()\n\u001b[1;32m---> 48\u001b[0m \u001b[38;5;28;01mreturn\u001b[39;00m \u001b[43mprompt\u001b[49m\n",
      "\u001b[1;31mUnboundLocalError\u001b[0m: local variable 'prompt' referenced before assignment"
     ]
    }
   ],
   "source": [
    "import os\n",
    "import json\n",
    "from dotenv import load_dotenv\n",
    "import minsearch\n",
    "from groq import Groq\n",
    "load_dotenv()\n",
    "\n",
    "with open(\"documents.json\",'rt') as f:\n",
    "  docs_raw = json.load(f)\n",
    "documents = []\n",
    "for course_dict in docs_raw:\n",
    "  for doc in course_dict['documents']:\n",
    "    doc['course'] = course_dict['course']\n",
    "    documents.append(doc)\n",
    "\n",
    "index = minsearch.Index(\n",
    "    text_fields=[\"question\", \"text\", \"section\"],\n",
    "    keyword_fields=[\"course\"]\n",
    ")\n",
    "\n",
    "\n",
    "query = 'When is the course starting'\n",
    "\n",
    "index.fit(documents)\n",
    "\n",
    "boost = {'question': 3.0, 'section': 0.5}\n",
    "\n",
    "results = index.search(\n",
    "        query=query,\n",
    "        filter_dict={'course': 'data-engineering-zoomcamp'},\n",
    "        boost_dict=boost,\n",
    "        num_results=5\n",
    "    )\n",
    "\n",
    "def build_prompt(query, search_results):\n",
    "    prompt_template = \"\"\"\n",
    "    You're a course teaching assistant. Answer the QUESTION based on the CONTEXT from the FAQ database.\n",
    "    Use only the facts from the CONTEXT when answering the QUESTION.\n",
    "    QUESTION: {question}\n",
    "    CONTEXT: \n",
    "    {context}\n",
    "    \"\"\".strip()\n",
    "\n",
    "    context = \"\"\n",
    "    for doc in search_results:\n",
    "        context = context + f\"section: {doc['section']}\\nquestion: {doc['question']}\\nanswer: {doc['text']}\\n\\n\"\n",
    "        prompt = prompt_template.format(question=query, context=context).strip()\n",
    "    return prompt\n",
    "\n",
    "prompt = build_prompt(query,results)\n",
    "\n",
    "#client = OpenAI(api_key=os.getenv('OPEN_API_KEY'))\n",
    "client = Groq(api_key=os.getenv('GROQ_API_KEY'))\n",
    "\n",
    "response = client.chat.completions.create(\n",
    "    model=\"llama3-8b-8192\",\n",
    "    messages = [{\"role\":\"user\",\"content\":prompt}])\n",
    "\n",
    "print(response.choices[0].message.content)"
   ]
  },
  {
   "cell_type": "code",
   "execution_count": null,
   "id": "33bef6a2-cd82-45be-88d5-b260b1cd02e2",
   "metadata": {},
   "outputs": [],
   "source": []
  }
 ],
 "metadata": {
  "kernelspec": {
   "display_name": "Python 3 (ipykernel)",
   "language": "python",
   "name": "python3"
  },
  "language_info": {
   "codemirror_mode": {
    "name": "ipython",
    "version": 3
   },
   "file_extension": ".py",
   "mimetype": "text/x-python",
   "name": "python",
   "nbconvert_exporter": "python",
   "pygments_lexer": "ipython3",
   "version": "3.9.9"
  }
 },
 "nbformat": 4,
 "nbformat_minor": 5
}
